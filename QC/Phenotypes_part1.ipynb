{
 "cells": [
  {
   "cell_type": "code",
   "execution_count": 1,
   "id": "551e7df1-fbf7-4410-afc4-10d1c1d37e20",
   "metadata": {},
   "outputs": [
    {
     "name": "stdout",
     "output_type": "stream",
     "text": [
      "Looking in links: /cvmfs/soft.computecanada.ca/custom/python/wheelhouse/gentoo2023/x86-64-v3, /cvmfs/soft.computecanada.ca/custom/python/wheelhouse/gentoo2023/generic, /cvmfs/soft.computecanada.ca/custom/python/wheelhouse/generic\n",
      "Processing /cvmfs/soft.computecanada.ca/custom/python/wheelhouse/generic/openpyxl-3.1.2+computecanada-py2.py3-none-any.whl\n",
      "Processing /cvmfs/soft.computecanada.ca/custom/python/wheelhouse/generic/et_xmlfile-1.1.0+computecanada-py3-none-any.whl (from openpyxl)\n",
      "Installing collected packages: et-xmlfile, openpyxl\n",
      "Successfully installed et-xmlfile-1.1.0+computecanada openpyxl-3.1.2+computecanada\n"
     ]
    }
   ],
   "source": [
    "!pip install openpyxl --no-index"
   ]
  },
  {
   "cell_type": "code",
   "execution_count": 1,
   "id": "0bdcd071-e664-43e9-bcc1-7ad0c63883a4",
   "metadata": {},
   "outputs": [],
   "source": [
    "import pandas as pd\n",
    "import numpy as np\n",
    "import csv\n",
    "import openpyxl"
   ]
  },
  {
   "cell_type": "code",
   "execution_count": 2,
   "id": "74676d5c-4710-4b2b-b451-b20d5b493183",
   "metadata": {},
   "outputs": [],
   "source": [
    "df = pd.read_csv(\"/lustre06/project/6060121/CLSA_PheWeb_shared/Original/23ME002_UdeM_SGTaliun_Baseline/23ME002_UdeM_SGTaliun_Baseline_CoPv7_Qx_PA_BS.csv\", low_memory = False)\n"
   ]
  },
  {
   "cell_type": "markdown",
   "id": "fb45cb72-bed9-4ef5-a3fc-3152c5b3b679",
   "metadata": {
    "tags": []
   },
   "source": [
    "# Binary Traits\n",
    "There are two types of binary variables. The ones with 0,1 and the ones with 1,2.\n",
    "Note that 8,9 are used for DK,RF."
   ]
  },
  {
   "cell_type": "code",
   "execution_count": 8,
   "id": "44ed43e4-b623-4624-aa36-762c9de175a1",
   "metadata": {},
   "outputs": [
    {
     "name": "stdout",
     "output_type": "stream",
     "text": [
      "The number of 1s in the OST_MED_COM column is: 1338\n"
     ]
    }
   ],
   "source": [
    "number_of_ones = (df['OST_MED_COM'] == 1).sum()\n",
    "print(f\"The number of 1s in the OST_MED_COM column is: {number_of_ones}\")\n"
   ]
  },
  {
   "cell_type": "code",
   "execution_count": 9,
   "id": "20783af4-c9c2-4c72-8193-33e5281326d1",
   "metadata": {},
   "outputs": [
    {
     "data": {
      "text/plain": [
       "996"
      ]
     },
     "execution_count": 9,
     "metadata": {},
     "output_type": "execute_result"
    }
   ],
   "source": [
    "# Find columns that only contain 0 and 1 values and possibly missing values\n",
    "#case: 1 control: 0\n",
    "binary_columns_10 = [\n",
    "    col for col in df.columns \n",
    "    if all((df[col].isin([1, 0, 8, 9])) | (df[col].isnull())) and df[col].notnull().any()]\n",
    "len(binary_columns_10)"
   ]
  },
  {
   "cell_type": "code",
   "execution_count": 10,
   "id": "73a14d8c-6e86-4554-a633-0d6608ee7b81",
   "metadata": {},
   "outputs": [
    {
     "data": {
      "text/plain": [
       "299"
      ]
     },
     "execution_count": 10,
     "metadata": {},
     "output_type": "execute_result"
    }
   ],
   "source": [
    "# Find columns that only contain 1 and 2 values and possibly missing values\n",
    "#case: 1 control: 2\n",
    "binary_columns_12 = [\n",
    "    col for col in df.columns \n",
    "    if all((df[col].isin([1, 2, 8, 9])) | (df[col].isnull())) and df[col].notnull().any()]\n",
    "len(binary_columns_12)"
   ]
  },
  {
   "cell_type": "code",
   "execution_count": 11,
   "id": "c918d951-8d82-4276-8fe3-36e4437b2fb4",
   "metadata": {},
   "outputs": [
    {
     "name": "stdout",
     "output_type": "stream",
     "text": [
      "Is 'OST_MED_COM' in binary_columns_12? False\n"
     ]
    }
   ],
   "source": [
    "is_in_binary_columns_12 = \"OST_MED_COM\" in binary_columns_12\n",
    "\n",
    "print(f\"Is 'OST_MED_COM' in binary_columns_12? {is_in_binary_columns_12}\")\n"
   ]
  },
  {
   "cell_type": "code",
   "execution_count": 36,
   "id": "1be240a0-997f-43ef-b565-ebb7b1cd2871",
   "metadata": {},
   "outputs": [
    {
     "name": "stdout",
     "output_type": "stream",
     "text": [
      "13\n"
     ]
    },
    {
     "data": {
      "text/plain": [
       "['MEDI_DOSE_FRQ_35_COM',\n",
       " 'COG_WRDFCTR_LG_COM',\n",
       " 'STP_COL_OT_COM',\n",
       " 'MEDI_DOSE_FRQ_38_COM',\n",
       " 'FUL_STATUS_COM',\n",
       " 'MEDI_DOSE_FRQ_37_COM',\n",
       " 'COG_MAT_META_PSTATUS_COM',\n",
       " 'TON_EYE_R_COM',\n",
       " 'COG_WRDIMP_COM',\n",
       " 'IAL_HPMED_COM',\n",
       " 'COG_RDYIMP_COM',\n",
       " 'FAL_DV_COM',\n",
       " 'FAL_DVCTR_COM']"
      ]
     },
     "execution_count": 36,
     "metadata": {},
     "output_type": "execute_result"
    }
   ],
   "source": [
    "#finding the overlap between these two binary groups\n",
    "# Assuming binary_columns_01 and binary_columns_12 are your lists\n",
    "binary_columns_01_set = set(binary_columns_10)\n",
    "binary_columns_12_set = set(binary_columns_12)\n",
    "\n",
    "# Find the overlap (intersection) between the two sets\n",
    "overlap_columns = binary_columns_01_set.intersection(binary_columns_12_set)\n",
    "\n",
    "# Convert the set back to a list if you need a list\n",
    "overlap_columns_list = list(overlap_columns)\n",
    "\n",
    "# Now overlap_columns_list contains the columns that are present in both binary_columns_01 and binary_columns_12\n",
    "print(len(overlap_columns_list))\n",
    "overlap_columns_list"
   ]
  },
  {
   "cell_type": "markdown",
   "id": "33b6fa30-9764-4516-8c71-6b67b3787131",
   "metadata": {},
   "source": [
    "This gives us 1282 binary variables. note that this doesnt necassarily mean that the variable is binary. for instance, \"MEDI_DOSE_FRQ_35_COM\" (Dosage frequency - Medication 35) is not a binary variable but since it only has two unique values in the responses given, it counts as a binary variable in this step."
   ]
  },
  {
   "cell_type": "markdown",
   "id": "33673e2e-243e-4985-827a-7a0732bbe562",
   "metadata": {},
   "source": [
    "# Does it have more than 1k cases?"
   ]
  },
  {
   "cell_type": "code",
   "execution_count": 37,
   "id": "b22a817d-b859-43ff-ae0d-bb372d3401a1",
   "metadata": {},
   "outputs": [
    {
     "data": {
      "text/plain": [
       "285"
      ]
     },
     "execution_count": 37,
     "metadata": {},
     "output_type": "execute_result"
    }
   ],
   "source": [
    "# from binary_columns_01 keep only the ones with at least 1k cases (case:1 control:0)\n",
    "filtered_1k_columns_10 = [\n",
    "    col for col in binary_columns_10 \n",
    "    if df[col].value_counts().get(1, 0) >= 1000\n",
    "]\n",
    "len(filtered_1k_columns_10)"
   ]
  },
  {
   "cell_type": "code",
   "execution_count": 38,
   "id": "3deb2def-cdfa-47ba-a391-1c565d38165d",
   "metadata": {},
   "outputs": [
    {
     "data": {
      "text/plain": [
       "172"
      ]
     },
     "execution_count": 38,
     "metadata": {},
     "output_type": "execute_result"
    }
   ],
   "source": [
    "# from binary_columns_12 keep only the ones with at least 1k cases (case:1 control:2)\n",
    "filtered_1k_columns_12 = [\n",
    "    col for col in binary_columns_12 \n",
    "    if df[col].value_counts().get(1, 0) >= 1000\n",
    "]\n",
    "len(filtered_1k_columns_12)"
   ]
  },
  {
   "cell_type": "code",
   "execution_count": 39,
   "id": "9e6a4b8d-a17f-4f48-8acc-06b65eeb5f1d",
   "metadata": {},
   "outputs": [
    {
     "name": "stdout",
     "output_type": "stream",
     "text": [
      "1\n"
     ]
    },
    {
     "data": {
      "text/plain": [
       "['TON_EYE_R_COM']"
      ]
     },
     "execution_count": 39,
     "metadata": {},
     "output_type": "execute_result"
    }
   ],
   "source": [
    "#finding the overlap between binary_columns_12 and binary_columns_10\n",
    "# Assuming binary_columns_01 and binary_columns_12 are your lists\n",
    "binary_columns_01_set_1k = set(filtered_1k_columns_10)\n",
    "binary_columns_12_set_1k = set(filtered_1k_columns_12)\n",
    "\n",
    "# Find the overlap (intersection) between the two sets\n",
    "overlap_columns_1k = binary_columns_01_set_1k.intersection(binary_columns_12_set_1k)\n",
    "\n",
    "# Convert the set back to a list if you need a list\n",
    "overlap_columns_list_1k = list(overlap_columns_1k)\n",
    "\n",
    "# Now overlap_columns_list contains the columns that are present in both binary_columns_01 and binary_columns_12\n",
    "print(len(overlap_columns_list_1k))\n",
    "overlap_columns_list_1k"
   ]
  },
  {
   "cell_type": "markdown",
   "id": "2f71f02b-b5b9-4510-8323-fc3e044c0648",
   "metadata": {},
   "source": [
    "This gives us 456 variables that are binary and have at least 1000 cases."
   ]
  },
  {
   "cell_type": "markdown",
   "id": "6e80b2f3-2abc-4360-843a-af8e849572d0",
   "metadata": {},
   "source": [
    "# Does it have \"GWAS relevance\"?"
   ]
  },
  {
   "cell_type": "markdown",
   "id": "341f8b24-c141-4190-ac7d-4bf4100fab50",
   "metadata": {},
   "source": [
    "We meticulously went through phenotypes and selected the ones that had GWAS relevance. The results are stored in \"Binary_good_GWAS_1000cases.txt\" which will go through the next .ipynb notebook to finalize the phenotypes file."
   ]
  },
  {
   "cell_type": "code",
   "execution_count": null,
   "id": "659e972c-c2e1-4a83-be64-676f9733d81b",
   "metadata": {},
   "outputs": [],
   "source": []
  }
 ],
 "metadata": {
  "kernelspec": {
   "display_name": "Python 3.11",
   "language": "python",
   "name": "python3"
  },
  "language_info": {
   "codemirror_mode": {
    "name": "ipython",
    "version": 3
   },
   "file_extension": ".py",
   "mimetype": "text/x-python",
   "name": "python",
   "nbconvert_exporter": "python",
   "pygments_lexer": "ipython3",
   "version": "3.11.5"
  }
 },
 "nbformat": 4,
 "nbformat_minor": 5
}
