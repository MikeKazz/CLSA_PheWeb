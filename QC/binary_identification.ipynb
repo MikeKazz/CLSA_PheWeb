{
 "cells": [
  {
   "cell_type": "markdown",
   "id": "33356479-ecdc-413f-a632-9c09e83d4dd1",
   "metadata": {},
   "source": [
    "## This code identifies binary traits"
   ]
  },
  {
   "cell_type": "code",
   "execution_count": 1,
   "id": "20a5c35d-bb2a-4c27-a6ab-e39d74976c55",
   "metadata": {},
   "outputs": [
    {
     "name": "stdout",
     "output_type": "stream",
     "text": [
      "Looking in links: /cvmfs/soft.computecanada.ca/custom/python/wheelhouse/gentoo2023/x86-64-v3, /cvmfs/soft.computecanada.ca/custom/python/wheelhouse/gentoo2023/generic, /cvmfs/soft.computecanada.ca/custom/python/wheelhouse/generic\n",
      "Processing /cvmfs/soft.computecanada.ca/custom/python/wheelhouse/generic/openpyxl-3.1.2+computecanada-py2.py3-none-any.whl\n",
      "Processing /cvmfs/soft.computecanada.ca/custom/python/wheelhouse/generic/et_xmlfile-1.1.0+computecanada-py3-none-any.whl (from openpyxl)\n",
      "Installing collected packages: et-xmlfile, openpyxl\n",
      "Successfully installed et-xmlfile-1.1.0+computecanada openpyxl-3.1.2+computecanada\n"
     ]
    }
   ],
   "source": [
    "!pip install openpyxl --no-index"
   ]
  },
  {
   "cell_type": "code",
   "execution_count": 1,
   "id": "860fbda8-cb6e-4d41-a95d-aef18ab085f9",
   "metadata": {},
   "outputs": [],
   "source": [
    "import pandas as pd\n",
    "import numpy as np\n",
    "import csv\n",
    "import openpyxl"
   ]
  },
  {
   "cell_type": "code",
   "execution_count": 2,
   "id": "719cb309-c882-4ac0-8d8f-e46ba6d741a6",
   "metadata": {},
   "outputs": [],
   "source": [
    "df = pd.read_csv(\"/lustre06/project/6060121/CLSA_PheWeb_shared/Original/23ME002_UdeM_SGTaliun_Baseline/23ME002_UdeM_SGTaliun_Baseline_CoPv7_Qx_PA_BS.csv\", low_memory = False)"
   ]
  },
  {
   "cell_type": "code",
   "execution_count": 4,
   "id": "600bc228-a658-47f2-9b0c-87f8b4101757",
   "metadata": {},
   "outputs": [],
   "source": [
    "phenotype_class = pd.read_excel(\"./2109005_McGill_DTaliun_Baseline_CoPv7-dictionary.xlsx\")"
   ]
  },
  {
   "cell_type": "code",
   "execution_count": 7,
   "id": "33349db2-1752-47bc-80d7-75cca0e439e8",
   "metadata": {},
   "outputs": [
    {
     "data": {
      "text/plain": [
       "1026"
      ]
     },
     "execution_count": 7,
     "metadata": {},
     "output_type": "execute_result"
    }
   ],
   "source": [
    "# Find columns that only contain 0 and 1 values and possibly missing values\n",
    "binary_columns = [col for col in df.columns if all((df[col].isin([0, 1])) | (df[col].isnull()))]\n",
    "len(binary_columns)"
   ]
  },
  {
   "cell_type": "code",
   "execution_count": 3,
   "id": "281340b5-986d-455e-a509-9685535650d3",
   "metadata": {},
   "outputs": [
    {
     "data": {
      "text/plain": [
       "1094"
      ]
     },
     "execution_count": 3,
     "metadata": {},
     "output_type": "execute_result"
    }
   ],
   "source": [
    "# binary_columns = [\n",
    "#     col for col in df.columns \n",
    "#     if all((df[col].isin([0, 1])) | (df[col].isnull())) or all((df[col].isin([1, 2])) | (df[col].isnull()))\n",
    "# ]\n",
    "# len(binary_columns)"
   ]
  },
  {
   "cell_type": "code",
   "execution_count": 8,
   "id": "4bc6d7dc-2815-47dd-8594-5a6b4f7d8e09",
   "metadata": {},
   "outputs": [],
   "source": [
    "# Load the second dataset\n",
    "#phenotype_classes_df = phenotype_class\n",
    "phenotype_class = phenotype_class[['name','class']]\n",
    "\n",
    "phenotype_class['class'] = phenotype_class['class'].str.lower()\n",
    "\n",
    "# Check the class(es) for each binary phenotype\n",
    "binary_phenotype_classes = phenotype_class[phenotype_class['name'].isin(binary_columns)][['name','class']]\n",
    "binary_phenotype_classes.to_excel(\"binary_phenotype_classes.xlsx\", index=False)"
   ]
  },
  {
   "cell_type": "markdown",
   "id": "f1417dbf-3815-4a76-9336-27f745f679a0",
   "metadata": {},
   "source": [
    "### Generating Binary_Pheno.csv which contains the binary phenotypes and cases,controls,male,female"
   ]
  },
  {
   "cell_type": "code",
   "execution_count": 9,
   "id": "f7deb472-7304-4392-82c0-337e1494d568",
   "metadata": {},
   "outputs": [],
   "source": [
    "# Create a dictionary to store the results\n",
    "results = {'Column': [], 'Cases': [], 'Controls': [], 'Total_case_control': [], 'Missing_values': [],\n",
    "          'Male_Controls': [], 'Female_Controls': [], 'Male_Cases': [], 'Female_Cases': [],\n",
    "           'Total_female': [], 'Total_male': [], 'Label': []\n",
    "           }\n",
    "\n",
    "for column in binary_columns:\n",
    "    cases = (df[column] == 1).sum()\n",
    "    controls = (df[column] == 0).sum()\n",
    "    male_cases = ((df[column] == 1) & (df['SEX_ASK_COM'] == 'M')).sum()\n",
    "    female_cases = ((df[column] == 1) & (df['SEX_ASK_COM'] == 'F')).sum()\n",
    "    male_controls = ((df[column] == 0) & (df['SEX_ASK_COM'] == 'M')).sum()\n",
    "    female_controls = ((df[column] == 0) & (df['SEX_ASK_COM'] == 'F')).sum()\n",
    "    male_total = male_cases + male_controls\n",
    "    female_total = female_cases + female_controls\n",
    "    \n",
    "    #finding the assigned label for each phenotype from the phenotype_class file\n",
    "    index = phenotype_class[phenotype_class['name'] == column].index[0]\n",
    "    label = phenotype_class['class'].iloc[index]\n",
    "    \n",
    "\n",
    "    results['Column'].append(column)\n",
    "    results['Cases'].append(cases)\n",
    "    results['Controls'].append(controls)\n",
    "    results['Total_case_control'].append(controls+cases)\n",
    "    results['Missing_values'].append(len(df) - (cases+controls))\n",
    "    results['Male_Controls'].append(male_controls)\n",
    "    results['Female_Controls'].append(female_controls)\n",
    "    results['Male_Cases'].append(male_cases)\n",
    "    results['Female_Cases'].append(female_cases)\n",
    "    results['Total_female'].append(female_total)\n",
    "    results['Total_male'].append(male_total)\n",
    "    results['Label'].append(label)\n",
    "    \n",
    "     \n",
    "    \n",
    "    if male_total == 0 and female_total == 0:\n",
    "        continue\n",
    "\n",
    "    \n",
    "    \n",
    "# Convert the results to a Pandas dataframe\n",
    "results_df = pd.DataFrame(results)\n",
    "\n",
    "# Keep the ones with more than 1000 sample size\n",
    "# results_df = results_df[results_df[\"Total_case_control\"] >= 1000]\n",
    "\n",
    "# Write the results to a CSV file\n",
    "results_df.to_csv('Binary_Pheno.csv', index=False)"
   ]
  },
  {
   "cell_type": "markdown",
   "id": "2d366a8d-7f4b-475a-bc8f-adf950dc8bbe",
   "metadata": {},
   "source": [
    "## testing different thresholds for cases"
   ]
  },
  {
   "cell_type": "code",
   "execution_count": null,
   "id": "eea0633a-b280-4c23-87d9-08cfe3f03fd8",
   "metadata": {},
   "outputs": [
    {
     "name": "stdout",
     "output_type": "stream",
     "text": [
      "Number of rows with 'Cases' <= 1000: 744\n",
      "Distribution of 'Label' for rows where 'Cases' <= 1000:\n",
      "Label\n",
      "behaviour         315\n",
      "health            246\n",
      "identity           69\n",
      "socio-economic     43\n",
      "measurements       42\n",
      "medication         17\n",
      "medications        12\n",
      "Name: count, dtype: int64\n"
     ]
    }
   ],
   "source": [
    "# import pandas as pd\n",
    "\n",
    "# # Load the CSV file\n",
    "# df = pd.read_csv('Binary_Pheno.csv')\n",
    "\n",
    "# # Filter rows where 'Cases' is less than or equal to 1000\n",
    "# filtered_df = df[df['Cases'] <= 1000]\n",
    "\n",
    "# # Print the number of rows with 'Cases' <= 1000\n",
    "# print(f\"Number of rows with 'Cases' <= 1000: {len(filtered_df)}\")\n",
    "\n",
    "# # Get the distribution of the 'Label' column in the filtered DataFrame\n",
    "# label_distribution = filtered_df['Label'].value_counts()\n",
    "\n",
    "# # Print the distribution of 'Label'\n",
    "# print(\"Distribution of 'Label' for rows where 'Cases' <= 1000:\")\n",
    "# print(label_distribution)\n",
    "# # we remove these"
   ]
  },
  {
   "cell_type": "code",
   "execution_count": 18,
   "id": "3a170d72-8a7d-4010-a0f8-231d8d615d2e",
   "metadata": {},
   "outputs": [
    {
     "data": {
      "text/html": [
       "<div>\n",
       "<style scoped>\n",
       "    .dataframe tbody tr th:only-of-type {\n",
       "        vertical-align: middle;\n",
       "    }\n",
       "\n",
       "    .dataframe tbody tr th {\n",
       "        vertical-align: top;\n",
       "    }\n",
       "\n",
       "    .dataframe thead th {\n",
       "        text-align: right;\n",
       "    }\n",
       "</style>\n",
       "<table border=\"1\" class=\"dataframe\">\n",
       "  <thead>\n",
       "    <tr style=\"text-align: right;\">\n",
       "      <th></th>\n",
       "      <th>Cutoff</th>\n",
       "      <th>Num variables to remove</th>\n",
       "      <th>behaviour</th>\n",
       "      <th>health</th>\n",
       "      <th>identity</th>\n",
       "      <th>socio-economic</th>\n",
       "      <th>measurements</th>\n",
       "      <th>medication</th>\n",
       "      <th>medications</th>\n",
       "    </tr>\n",
       "  </thead>\n",
       "  <tbody>\n",
       "    <tr>\n",
       "      <th>0</th>\n",
       "      <td>1000</td>\n",
       "      <td>744</td>\n",
       "      <td>315</td>\n",
       "      <td>246</td>\n",
       "      <td>69</td>\n",
       "      <td>43</td>\n",
       "      <td>42</td>\n",
       "      <td>17</td>\n",
       "      <td>12</td>\n",
       "    </tr>\n",
       "    <tr>\n",
       "      <th>1</th>\n",
       "      <td>900</td>\n",
       "      <td>734</td>\n",
       "      <td>312</td>\n",
       "      <td>243</td>\n",
       "      <td>67</td>\n",
       "      <td>41</td>\n",
       "      <td>42</td>\n",
       "      <td>17</td>\n",
       "      <td>12</td>\n",
       "    </tr>\n",
       "    <tr>\n",
       "      <th>2</th>\n",
       "      <td>800</td>\n",
       "      <td>724</td>\n",
       "      <td>310</td>\n",
       "      <td>239</td>\n",
       "      <td>66</td>\n",
       "      <td>38</td>\n",
       "      <td>42</td>\n",
       "      <td>17</td>\n",
       "      <td>12</td>\n",
       "    </tr>\n",
       "    <tr>\n",
       "      <th>3</th>\n",
       "      <td>700</td>\n",
       "      <td>712</td>\n",
       "      <td>307</td>\n",
       "      <td>233</td>\n",
       "      <td>65</td>\n",
       "      <td>36</td>\n",
       "      <td>42</td>\n",
       "      <td>17</td>\n",
       "      <td>12</td>\n",
       "    </tr>\n",
       "    <tr>\n",
       "      <th>4</th>\n",
       "      <td>600</td>\n",
       "      <td>698</td>\n",
       "      <td>301</td>\n",
       "      <td>229</td>\n",
       "      <td>64</td>\n",
       "      <td>33</td>\n",
       "      <td>42</td>\n",
       "      <td>17</td>\n",
       "      <td>12</td>\n",
       "    </tr>\n",
       "    <tr>\n",
       "      <th>5</th>\n",
       "      <td>500</td>\n",
       "      <td>685</td>\n",
       "      <td>299</td>\n",
       "      <td>222</td>\n",
       "      <td>63</td>\n",
       "      <td>30</td>\n",
       "      <td>42</td>\n",
       "      <td>17</td>\n",
       "      <td>12</td>\n",
       "    </tr>\n",
       "    <tr>\n",
       "      <th>6</th>\n",
       "      <td>400</td>\n",
       "      <td>652</td>\n",
       "      <td>289</td>\n",
       "      <td>213</td>\n",
       "      <td>60</td>\n",
       "      <td>22</td>\n",
       "      <td>40</td>\n",
       "      <td>17</td>\n",
       "      <td>11</td>\n",
       "    </tr>\n",
       "    <tr>\n",
       "      <th>7</th>\n",
       "      <td>300</td>\n",
       "      <td>626</td>\n",
       "      <td>281</td>\n",
       "      <td>202</td>\n",
       "      <td>55</td>\n",
       "      <td>21</td>\n",
       "      <td>39</td>\n",
       "      <td>17</td>\n",
       "      <td>11</td>\n",
       "    </tr>\n",
       "    <tr>\n",
       "      <th>8</th>\n",
       "      <td>200</td>\n",
       "      <td>579</td>\n",
       "      <td>266</td>\n",
       "      <td>188</td>\n",
       "      <td>48</td>\n",
       "      <td>13</td>\n",
       "      <td>36</td>\n",
       "      <td>17</td>\n",
       "      <td>11</td>\n",
       "    </tr>\n",
       "    <tr>\n",
       "      <th>9</th>\n",
       "      <td>100</td>\n",
       "      <td>490</td>\n",
       "      <td>234</td>\n",
       "      <td>151</td>\n",
       "      <td>34</td>\n",
       "      <td>9</td>\n",
       "      <td>34</td>\n",
       "      <td>17</td>\n",
       "      <td>11</td>\n",
       "    </tr>\n",
       "  </tbody>\n",
       "</table>\n",
       "</div>"
      ],
      "text/plain": [
       "   Cutoff  Num variables to remove  behaviour  health  identity  \\\n",
       "0    1000                      744        315     246        69   \n",
       "1     900                      734        312     243        67   \n",
       "2     800                      724        310     239        66   \n",
       "3     700                      712        307     233        65   \n",
       "4     600                      698        301     229        64   \n",
       "5     500                      685        299     222        63   \n",
       "6     400                      652        289     213        60   \n",
       "7     300                      626        281     202        55   \n",
       "8     200                      579        266     188        48   \n",
       "9     100                      490        234     151        34   \n",
       "\n",
       "   socio-economic  measurements  medication  medications  \n",
       "0              43            42          17           12  \n",
       "1              41            42          17           12  \n",
       "2              38            42          17           12  \n",
       "3              36            42          17           12  \n",
       "4              33            42          17           12  \n",
       "5              30            42          17           12  \n",
       "6              22            40          17           11  \n",
       "7              21            39          17           11  \n",
       "8              13            36          17           11  \n",
       "9               9            34          17           11  "
      ]
     },
     "execution_count": 18,
     "metadata": {},
     "output_type": "execute_result"
    }
   ],
   "source": [
    "import pandas as pd\n",
    "\n",
    "# Load the CSV file\n",
    "df = pd.read_csv('Binary_Pheno.csv')\n",
    "\n",
    "# List of cutoff values\n",
    "cutoffs = range(1000, 0, -100)\n",
    "\n",
    "# Prepare a list to store the summary data\n",
    "summary_data = []\n",
    "\n",
    "# Loop through each cutoff value\n",
    "for cutoff in cutoffs:\n",
    "    # Filter rows where 'Cases' is less than or equal to the current cutoff\n",
    "    filtered_df = df[df['Cases'] <= cutoff]\n",
    "\n",
    "    # Get the distribution of the 'Label' column in the filtered DataFrame\n",
    "    label_distribution = filtered_df['Label'].value_counts().to_dict()\n",
    "\n",
    "    # Store results in the summary list as a dictionary\n",
    "    summary_data.append({\n",
    "        'Cutoff': cutoff,\n",
    "        'Num variables to remove': len(filtered_df),\n",
    "        **label_distribution  # Expand the label distribution into the row dictionary\n",
    "    })\n",
    "\n",
    "# Convert summary data into a DataFrame for better visualization\n",
    "summary_df = pd.DataFrame(summary_data)\n",
    "\n",
    "# Display the DataFrame in the notebook\n",
    "summary_df\n"
   ]
  }
 ],
 "metadata": {
  "kernelspec": {
   "display_name": "Python 3.11",
   "language": "python",
   "name": "python3"
  },
  "language_info": {
   "codemirror_mode": {
    "name": "ipython",
    "version": 3
   },
   "file_extension": ".py",
   "mimetype": "text/x-python",
   "name": "python",
   "nbconvert_exporter": "python",
   "pygments_lexer": "ipython3",
   "version": "3.11.5"
  }
 },
 "nbformat": 4,
 "nbformat_minor": 5
}
