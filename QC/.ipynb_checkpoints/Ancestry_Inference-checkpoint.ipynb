{
 "cells": [
  {
   "cell_type": "markdown",
   "id": "07e153b1-a15e-44f9-b08c-ce214dd899d8",
   "metadata": {},
   "source": [
    "# This code maps the inferred ancestries to the CLSA labels."
   ]
  },
  {
   "cell_type": "code",
   "execution_count": 1,
   "id": "8feab69b-dfd5-47d6-b9c0-14fdab98d4d7",
   "metadata": {},
   "outputs": [],
   "source": [
    "import pandas as pd\n",
    "import numpy as np\n",
    "import csv"
   ]
  },
  {
   "cell_type": "code",
   "execution_count": 2,
   "id": "7ecaab10-b53e-42a4-b059-da83345491e6",
   "metadata": {},
   "outputs": [],
   "source": [
    "df = pd.read_csv(\"/lustre06/project/6060121/CLSA_PheWeb_shared/Original/23ME002_UdeM_SGTaliun_Baseline/23ME002_UdeM_SGTaliun_Baseline_CoPv7_Qx_PA_BS.csv\", low_memory = False)"
   ]
  },
  {
   "cell_type": "markdown",
   "id": "a2938caa-1f29-4165-8844-88c7df8a0c8c",
   "metadata": {},
   "source": [
    "# mapping to Table 3 (page 20 of the CLSA pdf)"
   ]
  },
  {
   "cell_type": "code",
   "execution_count": 3,
   "id": "8f50d8f7-f28f-473b-8c28-e7f5562bcbd8",
   "metadata": {},
   "outputs": [],
   "source": [
    "import pandas as pd\n",
    "\n",
    "\n",
    "# Mapping table as a dictionary\n",
    "column_to_category = {\n",
    "    \"SDC_CULT_AR_COM\": \"Arab\",\n",
    "    \"SDC_CULT_WA_COM\": \"Arab\",\n",
    "    \"SDC_CULT_BL_COM\": \"Black\",\n",
    "    \"SDC_CULT_ZH_COM\": \"East Asian\",\n",
    "    \"SDC_CULT_JA_COM\": \"East Asian\",\n",
    "    \"SDC_CULT_KO_COM\": \"East Asian\",\n",
    "    \"SDC_CULT_LA_COM\": \"Latino\",\n",
    "    \"SDC_CULT_DK_NA_COM\": \"Other\",\n",
    "    \"SDC_CULT_OT_COM\": \"Other\",\n",
    "    \"SDC_CULT_REFUSED_COM\": \"Other\",\n",
    "    \"SDC_CULT_SA_COM\": \"South Asian\",\n",
    "    \"SDC_CULT_FP_COM\": \"South-East Asian\",\n",
    "    \"SDC_CULT_SE_COM\": \"South-East Asian\",\n",
    "    \"SDC_CULT_WH_COM\": \"White\"\n",
    "}\n",
    "\n",
    "# Ensure no NaN keys from ADM_GWAS3_COM\n",
    "df = df.dropna(subset=['ADM_GWAS3_COM'])\n",
    "\n",
    "# Function to get category labels for each row\n",
    "def get_category_labels(row):\n",
    "    categories = set()  # Use a set to avoid duplicate categories\n",
    "    for col, category in column_to_category.items():\n",
    "        if row[col] == 1:\n",
    "            categories.add(category)\n",
    "    return \" and \".join(sorted(categories)) if categories else \"None\"\n",
    "\n",
    "# Creating the dictionary\n",
    "adm_gwas3_to_category = {row[\"ADM_GWAS3_COM\"]: get_category_labels(row) for index, row in df.iterrows()}\n"
   ]
  },
  {
   "cell_type": "code",
   "execution_count": 5,
   "id": "b8d89283-2bb4-4a46-85af-22f64ae8cae7",
   "metadata": {},
   "outputs": [
    {
     "name": "stdout",
     "output_type": "stream",
     "text": [
      "                                     Category  Count\n",
      "0                                       White  25180\n",
      "1                                        Arab    105\n",
      "2                                  East Asian    220\n",
      "3                             Other and White    252\n",
      "4                                       Other    167\n",
      "5             East Asian and South-East Asian      6\n",
      "6                                       Black    170\n",
      "7                                      Latino     85\n",
      "8                             Black and White     33\n",
      "9                            South-East Asian     83\n",
      "10                                South Asian    223\n",
      "11           South Asian and South-East Asian      6\n",
      "12                             Arab and White     14\n",
      "13                      South Asian and White     11\n",
      "14                       East Asian and White     14\n",
      "15                           Latino and White     15\n",
      "16                            Black and Other      3\n",
      "17                  Black and Other and White      6\n",
      "18             East Asian and Other and White      2\n",
      "19                       East Asian and Other      3\n",
      "20                      Black and South Asian      2\n",
      "21  Black and East Asian and Latino and White      1\n",
      "22      Black and Latino and South-East Asian      1\n",
      "23                                       None      5\n",
      "24                 South-East Asian and White      2\n",
      "25                           Black and Latino      1\n",
      "26                     Latino and South Asian      1\n",
      "27                 Latino and Other and White      1\n",
      "28                       Arab and South Asian      2\n",
      "29                      Other and South Asian      2\n",
      "30                             Arab and Black      1\n",
      "31                   Arab and Black and White      1\n",
      "32             Black and East Asian and White      1\n",
      "33            East Asian and Latino and White      1\n",
      "34  Arab and South Asian and South-East Asian      1\n",
      "35                      East Asian and Latino      1\n"
     ]
    }
   ],
   "source": [
    "from collections import Counter\n",
    "\n",
    "# Assuming the dictionary adm_gwas3_to_category is already created correctly as per your requirements\n",
    "\n",
    "# No need to flatten and split categories again, as each person with multiple ancestries \n",
    "# is already correctly labeled with \" and \". We just need to count these occurrences directly.\n",
    "\n",
    "# Directly count occurrences of each unique category/combination of categories\n",
    "category_counts = Counter(adm_gwas3_to_category.values())\n",
    "\n",
    "# Convert the counts to a DataFrame for display as a table\n",
    "category_counts_df = pd.DataFrame(category_counts.items(), columns=[\"Category\", \"Count\"])\n",
    "\n",
    "category_counts_df.to_csv('/home/mikekaz/scratch/category_counts.csv', index=False)\n",
    "\n",
    "# Display the table\n",
    "print(category_counts_df)\n"
   ]
  },
  {
   "cell_type": "code",
   "execution_count": 22,
   "id": "db485566-1c70-4663-98d0-ccb663c4bd84",
   "metadata": {},
   "outputs": [
    {
     "name": "stdout",
     "output_type": "stream",
     "text": [
      "File saved as adm_gwas3_to_category.json\n"
     ]
    }
   ],
   "source": [
    "import json\n",
    "\n",
    "file_path = 'adm_gwas3_to_category.json'  # Define the file name\n",
    "\n",
    "# Convert the dictionary to JSON and save it\n",
    "with open(file_path, 'w') as json_file:\n",
    "    json.dump(adm_gwas3_to_category, json_file)\n",
    "\n",
    "print(f\"File saved as {file_path}\")\n"
   ]
  },
  {
   "cell_type": "markdown",
   "id": "7edcfb8e-f1a2-47b4-a0c8-27e83b5e84cd",
   "metadata": {},
   "source": [
    "# mapping to Table 4 (page 22 of the CLSA pdf)"
   ]
  },
  {
   "cell_type": "code",
   "execution_count": 23,
   "id": "872146e0-771e-48d5-ae38-bfa2b4d37492",
   "metadata": {},
   "outputs": [],
   "source": [
    "# Mapping from the old labels to the new final labels as per the provided table\n",
    "label_mapping = {\n",
    "    \"White\": \"White\",\n",
    "    \"South Asian\": \"South Asian\",\n",
    "    \"East Asian\": \"East Asian\",\n",
    "    \"Black\": \"Black\",\n",
    "    \"Arab\": \"West Asian\",\n",
    "    \"Other\": \"Other\",\n",
    "    \"Latino\": \"Latin American\",\n",
    "    \"South-East Asian\": \"Southeast Asian\",\n",
    "    \"South Asian and White\": \"White and Asian\",\n",
    "    \"East Asian and White\": \"White and Asian\",\n",
    "    \"South-East Asian and White\": \"White and Asian\",\n",
    "    \"Black and White\": \"White and Black\"\n",
    "}\n",
    "\n",
    "# Function to map old labels to new final labels or \"Mixed\"\n",
    "def map_to_final_label(old_label):\n",
    "    return label_mapping.get(old_label, \"Mixed\")\n",
    "\n",
    "# Creating the new dictionary with final labels\n",
    "final_labels_dict = {key: map_to_final_label(value) for key, value in adm_gwas3_to_category.items()}\n",
    "\n",
    "# final_labels_dict is the dictionary with the new mappings\n"
   ]
  },
  {
   "cell_type": "code",
   "execution_count": 25,
   "id": "735fbfdf-1760-4d66-9195-2422d0b12508",
   "metadata": {},
   "outputs": [
    {
     "name": "stdout",
     "output_type": "stream",
     "text": [
      "        Final Label  Count\n",
      "0             White  25180\n",
      "1             Mixed    329\n",
      "2       South Asian    223\n",
      "3        East Asian    220\n",
      "4             Black    170\n",
      "5             Other    167\n",
      "6        West Asian    105\n",
      "7    Latin American     85\n",
      "8   Southeast Asian     83\n",
      "9   White and Black     33\n",
      "10  White and Asian     27\n"
     ]
    }
   ],
   "source": [
    "from collections import Counter\n",
    "import pandas as pd\n",
    "\n",
    "# Count the occurrences of each final label\n",
    "final_label_counts = Counter(final_labels_dict.values())\n",
    "\n",
    "# Convert the counts to a DataFrame for display as a table\n",
    "final_label_counts_df = pd.DataFrame(final_label_counts.items(), columns=['Final Label', 'Count'])\n",
    "\n",
    "# Sort the DataFrame by the count in descending order\n",
    "final_label_counts_df.sort_values('Count', ascending=False, inplace=True)\n",
    "\n",
    "# Reset the index for a cleaner table\n",
    "final_label_counts_df.reset_index(drop=True, inplace=True)\n",
    "\n",
    "# Display the table\n",
    "print(final_label_counts_df)\n"
   ]
  },
  {
   "cell_type": "code",
   "execution_count": 26,
   "id": "1452a29d-0b54-49d9-a102-5e4e8a5a59c7",
   "metadata": {},
   "outputs": [
    {
     "name": "stdout",
     "output_type": "stream",
     "text": [
      "File saved as final_label_counts.json\n"
     ]
    }
   ],
   "source": [
    "import json\n",
    "\n",
    "# Assuming adm_gwas3_to_category is your dictionary\n",
    "file_path = 'final_label_counts.json'  # Define the file name\n",
    "\n",
    "# Convert the dictionary to JSON and save it\n",
    "with open(file_path, 'w') as json_file:\n",
    "    json.dump(final_labels_dict, json_file)\n",
    "\n",
    "print(f\"File saved as {file_path}\")\n"
   ]
  },
  {
   "cell_type": "markdown",
   "id": "a098756e-9246-41ea-99d7-5257b1ae5c06",
   "metadata": {},
   "source": [
    "# filter for Z-score outliers (range: [-5,5])"
   ]
  },
  {
   "cell_type": "code",
   "execution_count": 1,
   "id": "b3beb8fc-2578-4185-bd56-70450467c7eb",
   "metadata": {},
   "outputs": [],
   "source": [
    "import pandas as pd\n",
    "\n",
    "# Load your DataFrame\n",
    "df = pd.read_csv(\"/lustre06/project/6060121/CLSA_PheWeb_shared/Original/23ME002_UdeM_SGTaliun_Baseline/23ME002_UdeM_SGTaliun_Baseline_CoPv7_Qx_PA_BS.csv\", low_memory=False)\n",
    "\n",
    "# Read the IDs from the text file into a list, converting them to float to match the DataFrame column type\n",
    "with open(\"/home/mikekaz/projects/rrg-vmooser/mikekaz/CLSA/Ancestry/FINAL/HGDP_1KG_ancestry_inference/output/Z_score_outliers_IDs.txt\", \"r\") as file:\n",
    "    outlier_ids = [float(line.strip()) for line in file]\n",
    "\n",
    "# Filter the DataFrame to keep only rows where 'ADM_GWAS3_COM' matches the IDs read from the file\n",
    "# df_filtered = df[df[\"ADM_GWAS3_COM\"].isin(outlier_ids)]\n",
    "df_filtered = df[~df[\"ADM_GWAS3_COM\"].isin(outlier_ids)]\n",
    "\n"
   ]
  },
  {
   "cell_type": "code",
   "execution_count": 2,
   "id": "569c69d3-759d-4ea9-a90d-a000e8c76c63",
   "metadata": {},
   "outputs": [],
   "source": [
    "import pandas as pd\n",
    "\n",
    "# Assuming df is your DataFrame\n",
    "\n",
    "# Mapping table as a dictionary\n",
    "column_to_category = {\n",
    "    \"SDC_CULT_AR_COM\": \"Arab\",\n",
    "    \"SDC_CULT_WA_COM\": \"Arab\",\n",
    "    \"SDC_CULT_BL_COM\": \"Black\",\n",
    "    \"SDC_CULT_ZH_COM\": \"East Asian\",\n",
    "    \"SDC_CULT_JA_COM\": \"East Asian\",\n",
    "    \"SDC_CULT_KO_COM\": \"East Asian\",\n",
    "    \"SDC_CULT_LA_COM\": \"Latino\",\n",
    "    \"SDC_CULT_DK_NA_COM\": \"Other\",\n",
    "    \"SDC_CULT_OT_COM\": \"Other\",\n",
    "    \"SDC_CULT_REFUSED_COM\": \"Other\",\n",
    "    \"SDC_CULT_SA_COM\": \"South Asian\",\n",
    "    \"SDC_CULT_FP_COM\": \"South-East Asian\",\n",
    "    \"SDC_CULT_SE_COM\": \"South-East Asian\",\n",
    "    \"SDC_CULT_WH_COM\": \"White\"\n",
    "}\n",
    "\n",
    "# Ensure no NaN keys from ADM_GWAS3_COM\n",
    "df_filtered = df_filtered.dropna(subset=['ADM_GWAS3_COM'])\n",
    "\n",
    "# Function to get category labels for each row\n",
    "def get_category_labels(row):\n",
    "    categories = set()  # Use a set to avoid duplicate categories\n",
    "    for col, category in column_to_category.items():\n",
    "        if row[col] == 1:\n",
    "            categories.add(category)\n",
    "    return \" and \".join(sorted(categories)) if categories else \"None\"\n",
    "\n",
    "# Creating the dictionary\n",
    "adm_gwas3_to_category = {row[\"ADM_GWAS3_COM\"]: get_category_labels(row) for index, row in df_filtered.iterrows()}\n"
   ]
  },
  {
   "cell_type": "code",
   "execution_count": 3,
   "id": "67ea20d3-e594-4214-b05b-71109519bc8c",
   "metadata": {},
   "outputs": [
    {
     "name": "stdout",
     "output_type": "stream",
     "text": [
      "                                     Category  Count\n",
      "0                                       White  25020\n",
      "1                                        Arab    102\n",
      "2                                  East Asian    217\n",
      "3                             Other and White    250\n",
      "4                                       Other    162\n",
      "5             East Asian and South-East Asian      6\n",
      "6                                       Black    170\n",
      "7                                      Latino     84\n",
      "8                             Black and White     33\n",
      "9                            South-East Asian     83\n",
      "10                                South Asian    223\n",
      "11           South Asian and South-East Asian      6\n",
      "12                             Arab and White     14\n",
      "13                      South Asian and White     11\n",
      "14                           Latino and White     15\n",
      "15                            Black and Other      3\n",
      "16                  Black and Other and White      6\n",
      "17             East Asian and Other and White      2\n",
      "18                       East Asian and Other      2\n",
      "19                      Black and South Asian      2\n",
      "20  Black and East Asian and Latino and White      1\n",
      "21      Black and Latino and South-East Asian      1\n",
      "22                                       None      4\n",
      "23                       East Asian and White      4\n",
      "24                 South-East Asian and White      2\n",
      "25                           Black and Latino      1\n",
      "26                     Latino and South Asian      1\n",
      "27                 Latino and Other and White      1\n",
      "28                       Arab and South Asian      2\n",
      "29                      Other and South Asian      2\n",
      "30                             Arab and Black      1\n",
      "31                   Arab and Black and White      1\n",
      "32             Black and East Asian and White      1\n",
      "33            East Asian and Latino and White      1\n",
      "34  Arab and South Asian and South-East Asian      1\n",
      "35                      East Asian and Latino      1\n"
     ]
    }
   ],
   "source": [
    "from collections import Counter\n",
    "\n",
    "# Assuming the dictionary adm_gwas3_to_category is already created correctly as per your requirements\n",
    "\n",
    "# No need to flatten and split categories again, as each person with multiple ancestries \n",
    "# is already correctly labeled with \" and \". We just need to count these occurrences directly.\n",
    "\n",
    "# Directly count occurrences of each unique category/combination of categories\n",
    "category_counts = Counter(adm_gwas3_to_category.values())\n",
    "\n",
    "# Convert the counts to a DataFrame for display as a table\n",
    "category_counts_df = pd.DataFrame(category_counts.items(), columns=[\"Category\", \"Count\"])\n",
    "\n",
    "# Display the table\n",
    "print(category_counts_df)\n"
   ]
  },
  {
   "cell_type": "code",
   "execution_count": 6,
   "id": "cbabea9b-055e-4ff7-8a3b-0e354de53e97",
   "metadata": {},
   "outputs": [],
   "source": [
    "# Mapping from the old labels to the new final labels as per the provided table\n",
    "label_mapping = {\n",
    "    \"White\": \"White\",\n",
    "    \"South Asian\": \"South Asian\",\n",
    "    \"East Asian\": \"East Asian\",\n",
    "    \"Black\": \"Black\",\n",
    "    \"Arab\": \"West Asian\",\n",
    "    \"Other\": \"Other\",\n",
    "    \"Latino\": \"Latin American\",\n",
    "    \"South-East Asian\": \"Southeast Asian\",\n",
    "    \"South Asian and White\": \"White and Asian\",\n",
    "    \"East Asian and White\": \"White and Asian\",\n",
    "    \"South-East Asian and White\": \"White and Asian\",\n",
    "    \"Arab and White\": \"White and Asian\",\n",
    "    \"Black and White\": \"White and Black\"\n",
    "}\n",
    "\n",
    "# Function to map old labels to new final labels or \"Mixed\"\n",
    "def map_to_final_label(old_label):\n",
    "    return label_mapping.get(old_label, \"Mixed\")\n",
    "\n",
    "# Creating the new dictionary with final labels\n",
    "final_labels_dict = {key: map_to_final_label(value) for key, value in adm_gwas3_to_category.items()}\n",
    "\n",
    "# final_labels_dict is the dictionary with the new mappings\n"
   ]
  },
  {
   "cell_type": "code",
   "execution_count": 7,
   "id": "f70dfa3f-e1e7-491d-b49d-d02152532849",
   "metadata": {},
   "outputs": [
    {
     "name": "stdout",
     "output_type": "stream",
     "text": [
      "        Final Label  Count\n",
      "0             White  25020\n",
      "1             Mixed    311\n",
      "2       South Asian    223\n",
      "3        East Asian    217\n",
      "4             Black    170\n",
      "5             Other    162\n",
      "6        West Asian    102\n",
      "7    Latin American     84\n",
      "8   Southeast Asian     83\n",
      "9   White and Black     33\n",
      "10  White and Asian     31\n"
     ]
    }
   ],
   "source": [
    "from collections import Counter\n",
    "import pandas as pd\n",
    "\n",
    "# Count the occurrences of each final label\n",
    "final_label_counts = Counter(final_labels_dict.values())\n",
    "\n",
    "# Convert the counts to a DataFrame for display as a table\n",
    "final_label_counts_df = pd.DataFrame(final_label_counts.items(), columns=['Final Label', 'Count'])\n",
    "\n",
    "# Sort the DataFrame by the count in descending order\n",
    "final_label_counts_df.sort_values('Count', ascending=False, inplace=True)\n",
    "\n",
    "# Reset the index for a cleaner table\n",
    "final_label_counts_df.reset_index(drop=True, inplace=True)\n",
    "\n",
    "# Display the table\n",
    "print(final_label_counts_df)\n"
   ]
  }
 ],
 "metadata": {
  "kernelspec": {
   "display_name": "Python 3.11",
   "language": "python",
   "name": "python3"
  },
  "language_info": {
   "codemirror_mode": {
    "name": "ipython",
    "version": 3
   },
   "file_extension": ".py",
   "mimetype": "text/x-python",
   "name": "python",
   "nbconvert_exporter": "python",
   "pygments_lexer": "ipython3",
   "version": "3.11.5"
  }
 },
 "nbformat": 4,
 "nbformat_minor": 5
}
