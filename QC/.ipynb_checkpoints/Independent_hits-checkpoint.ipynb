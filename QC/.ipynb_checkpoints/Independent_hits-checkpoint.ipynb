{
 "cells": [
  {
   "cell_type": "markdown",
   "id": "33c823b6-5fa3-4d6d-86e8-739ae4a0d2bd",
   "metadata": {},
   "source": [
    "## This code identifies the independent hits (criteria defined below) using the PheWeb output"
   ]
  },
  {
   "cell_type": "code",
   "execution_count": 2,
   "id": "1da80113-a55a-45cc-8e89-1f74190b014b",
   "metadata": {},
   "outputs": [
    {
     "name": "stdout",
     "output_type": "stream",
     "text": [
      "Category: health\n",
      "Total Hits: 177\n",
      "Independent Hits: 163\n",
      "\n",
      "Category: socio-economic\n",
      "Total Hits: 218\n",
      "Independent Hits: 180\n",
      "\n",
      "Category: behaviour\n",
      "Total Hits: 85\n",
      "Independent Hits: 79\n",
      "\n",
      "Category: medications\n",
      "Total Hits: 5\n",
      "Independent Hits: 4\n",
      "\n",
      "Category: Identity\n",
      "Total Hits: 1\n",
      "Independent Hits: 1\n",
      "\n"
     ]
    }
   ],
   "source": [
    "import json\n",
    "from collections import defaultdict\n",
    "\n",
    "# Define the file path\n",
    "file_path = '/lustre06/project/6060121/CLSA_PheWeb_shared/pheweb/binary/generated-by-pheweb/top_hits.json'\n",
    "\n",
    "# Load the JSON data\n",
    "with open(file_path, 'r') as file:\n",
    "    data = json.load(file)\n",
    "\n",
    "# Define the distance threshold for independence (500kb)\n",
    "DISTANCE_THRESHOLD = 500000  # 500 kb in base pairs\n",
    "P_VALUE_THRESHOLD = 5e-8  # P-value threshold for significance\n",
    "\n",
    "# Function to check if a hit is independent\n",
    "def is_independent(new_hit, hits):\n",
    "    for hit in hits:\n",
    "        if new_hit['chrom'] == hit['chrom'] and abs(new_hit['pos'] - hit['pos']) < DISTANCE_THRESHOLD:\n",
    "            return False\n",
    "    return True\n",
    "\n",
    "# Dictionary to store hits and independent hits categorized by 'category'\n",
    "categories = defaultdict(lambda: {'hits': 0, 'independent_hits': 0, 'hits_list': [], 'independent_hits_list': []})\n",
    "\n",
    "# Process each hit in the data\n",
    "for hit in data:\n",
    "    if hit['pval'] < P_VALUE_THRESHOLD:\n",
    "        category = hit['category']\n",
    "        categories[category]['hits'] += 1\n",
    "        categories[category]['hits_list'].append(hit)\n",
    "        if is_independent(hit, categories[category]['independent_hits_list']):\n",
    "            categories[category]['independent_hits'] += 1\n",
    "            categories[category]['independent_hits_list'].append(hit)\n",
    "\n",
    "# Display the results\n",
    "for category, info in categories.items():\n",
    "    print(f\"Category: {category}\")\n",
    "    print(f\"Total Hits: {info['hits']}\")\n",
    "    print(f\"Independent Hits: {info['independent_hits']}\\n\")\n"
   ]
  }
 ],
 "metadata": {
  "kernelspec": {
   "display_name": "Python 3.11",
   "language": "python",
   "name": "python3"
  },
  "language_info": {
   "codemirror_mode": {
    "name": "ipython",
    "version": 3
   },
   "file_extension": ".py",
   "mimetype": "text/x-python",
   "name": "python",
   "nbconvert_exporter": "python",
   "pygments_lexer": "ipython3",
   "version": "3.11.5"
  }
 },
 "nbformat": 4,
 "nbformat_minor": 5
}
