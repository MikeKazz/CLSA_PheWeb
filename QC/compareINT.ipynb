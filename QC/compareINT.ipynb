{
 "cells": [
  {
   "cell_type": "markdown",
   "id": "f8ff264c-6b73-48e1-866b-5c2208e1529b",
   "metadata": {},
   "source": [
    "## This code compares the effect size (BETA) for GWAS done with interaction term (sex) and without"
   ]
  },
  {
   "cell_type": "code",
   "execution_count": 1,
   "id": "999073ba-0861-49a7-b6c5-31e9eb24a711",
   "metadata": {},
   "outputs": [
    {
     "name": "stdout",
     "output_type": "stream",
     "text": [
      "Looking in links: /cvmfs/soft.computecanada.ca/custom/python/wheelhouse/gentoo2023/x86-64-v3, /cvmfs/soft.computecanada.ca/custom/python/wheelhouse/gentoo2023/generic, /cvmfs/soft.computecanada.ca/custom/python/wheelhouse/generic\n",
      "Processing /cvmfs/soft.computecanada.ca/custom/python/wheelhouse/generic/sklearn-0.0+computecanada-py2.py3-none-any.whl\n",
      "Processing /cvmfs/soft.computecanada.ca/custom/python/wheelhouse/gentoo2023/generic/scikit_learn-1.5.0+computecanada-cp311-cp311-linux_x86_64.whl (from sklearn)\n",
      "Requirement already satisfied: numpy>=1.26 in /cvmfs/soft.computecanada.ca/easybuild/software/2023/x86-64-v3/Compiler/gcccore/scipy-stack/2024a/lib/python3.11/site-packages (from scikit-learn->sklearn) (1.26.4+computecanada)\n",
      "Requirement already satisfied: scipy>=1.6.0 in /cvmfs/soft.computecanada.ca/easybuild/software/2023/x86-64-v3/Compiler/gcccore/scipy-stack/2024a/lib/python3.11/site-packages (from scikit-learn->sklearn) (1.13.1+computecanada)\n",
      "Processing /cvmfs/soft.computecanada.ca/custom/python/wheelhouse/generic/joblib-1.4.2+computecanada-py3-none-any.whl (from scikit-learn->sklearn)\n",
      "Processing /cvmfs/soft.computecanada.ca/custom/python/wheelhouse/generic/threadpoolctl-3.5.0+computecanada-py3-none-any.whl (from scikit-learn->sklearn)\n",
      "Installing collected packages: threadpoolctl, joblib, scikit-learn, sklearn\n",
      "Successfully installed joblib-1.4.2+computecanada scikit-learn-1.5.0+computecanada sklearn-0.0+computecanada threadpoolctl-3.5.0+computecanada\n"
     ]
    }
   ],
   "source": [
    "import sys\n",
    "!{sys.executable} -m pip install sklearn --no-index"
   ]
  },
  {
   "cell_type": "code",
   "execution_count": 1,
   "id": "64685b87-932c-40d1-94ee-754a05c05167",
   "metadata": {},
   "outputs": [],
   "source": [
    "from sklearn.metrics import mean_squared_error\n"
   ]
  },
  {
   "cell_type": "code",
   "execution_count": null,
   "id": "f986e51f-0144-44fb-92ff-0a914b975561",
   "metadata": {},
   "outputs": [
    {
     "name": "stderr",
     "output_type": "stream",
     "text": [
      "/tmp/ipykernel_2415679/2707054668.py:13: FutureWarning: The 'delim_whitespace' keyword in pd.read_csv is deprecated and will be removed in a future version. Use ``sep='\\s+'`` instead\n",
      "  file1_df = pd.read_csv(f, delim_whitespace=True)\n",
      "/tmp/ipykernel_2415679/2707054668.py:17: FutureWarning: The 'delim_whitespace' keyword in pd.read_csv is deprecated and will be removed in a future version. Use ``sep='\\s+'`` instead\n",
      "  file2_df = pd.read_csv(f, delim_whitespace=True)\n"
     ]
    }
   ],
   "source": [
    "import gzip\n",
    "import pandas as pd\n",
    "import matplotlib.pyplot as plt\n",
    "from sklearn.metrics import mean_squared_error\n",
    "import numpy as np\n",
    "\n",
    "# File paths\n",
    "file1_path = '/lustre06/project/6060121/CLSA_PheWeb_shared/pheweb/continuous/_DXA_OI_TOTAL_PERCENT_FAT_COM.txt.gz'\n",
    "file2_path = '/home/mikekaz/scratch/CLSA_Mike/Regenie/FINAL/Regenie_nextflow/continuous/results/step2/summary/_DXA_OI_TOTAL_PERCENT_FAT_COM.txt.gz'\n",
    "\n",
    "# Read file1\n",
    "with gzip.open(file1_path, 'rt') as f:\n",
    "    file1_df = pd.read_csv(f, delim_whitespace=True)\n",
    "\n",
    "# Read file2\n",
    "with gzip.open(file2_path, 'rt') as f:\n",
    "    file2_df = pd.read_csv(f, delim_whitespace=True)\n",
    "\n",
    "# Filter file2 for rows where TEST == 'ADD-CONDTL'\n",
    "file2_filtered_df = file2_df[file2_df['TEST'] == 'ADD-CONDTL']\n",
    "\n",
    "# Merge the two dataframes on 'ID'\n",
    "merged_df = pd.merge(file1_df, file2_filtered_df, on='ID', suffixes=('_file1', '_file2'))\n",
    "\n",
    "# Extract BETA values\n",
    "beta_file1 = merged_df['BETA_file1']\n",
    "beta_file2 = merged_df['BETA_file2']\n",
    "\n",
    "# Calculate correlation coefficient\n",
    "correlation = np.corrcoef(beta_file1, beta_file2)[0, 1]\n",
    "\n",
    "# Calculate mean squared error\n",
    "mse = mean_squared_error(beta_file1, beta_file2)\n",
    "\n",
    "# Plot BETA values\n",
    "plt.figure(figsize=(8, 8))\n",
    "plt.scatter(beta_file1, beta_file2, alpha=0.5)\n",
    "plt.plot([min(beta_file1), max(beta_file1)], [min(beta_file1), max(beta_file1)], 'r--')\n",
    "plt.xlabel('BETA from File 1')\n",
    "plt.ylabel('BETA from File 2 (ADD-CONDTL)')\n",
    "plt.title('Comparison of BETA Values')\n",
    "plt.grid(True)\n",
    "plt.show()\n",
    "\n",
    "# Print correlation and MSE\n",
    "print(f'Correlation coefficient: {correlation}')\n",
    "print(f'Mean Squared Error: {mse}')\n"
   ]
  },
  {
   "cell_type": "code",
   "execution_count": null,
   "id": "21740f77-e91d-4d62-bb1c-a099838178b5",
   "metadata": {},
   "outputs": [],
   "source": []
  }
 ],
 "metadata": {
  "kernelspec": {
   "display_name": "Python 3.11",
   "language": "python",
   "name": "python3"
  },
  "language_info": {
   "codemirror_mode": {
    "name": "ipython",
    "version": 3
   },
   "file_extension": ".py",
   "mimetype": "text/x-python",
   "name": "python",
   "nbconvert_exporter": "python",
   "pygments_lexer": "ipython3",
   "version": "3.11.5"
  }
 },
 "nbformat": 4,
 "nbformat_minor": 5
}
